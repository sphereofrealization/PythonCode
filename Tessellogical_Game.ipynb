{
  "nbformat": 4,
  "nbformat_minor": 0,
  "metadata": {
    "colab": {
      "provenance": []
    },
    "kernelspec": {
      "name": "python3",
      "display_name": "Python 3"
    },
    "language_info": {
      "name": "python"
    }
  },
  "cells": [
    {
      "cell_type": "markdown",
      "source": [
        "psi_1 & ~psi_2\n",
        "\n",
        "Logical AND of psi_1 with the negation of psi_2. ~psi_1 | omega\n",
        "\n",
        "Logical OR between the negation of psi_1 and omega. (psi_1 & omega) | (~psi_1 & ~omega)\n",
        "\n",
        "A logical expression equivalent to an XOR between psi_1 and omega. (psi_1 | psi_2) & ~omega\n",
        "\n",
        "Logical AND between the result of the OR operation on psi_1 and psi_2, and the negation of omega. psi_1 ^ psi_2 ^ omega\n",
        "\n",
        "The logical XOR operation applied pairwise among psi_1, psi_2, and omega."
      ],
      "metadata": {
        "id": "lHCO_Mf4xQif"
      }
    },
    {
      "cell_type": "code",
      "execution_count": null,
      "metadata": {
        "id": "vfsPDkPhxJNr"
      },
      "outputs": [],
      "source": [
        "import numpy as np\n",
        "import matplotlib.pyplot as plt\n",
        "import matplotlib.patches as patches\n",
        "import networkx as nx\n",
        "import sympy as sp\n",
        "\n",
        "# Define symbols for sympy expressions\n",
        "psi_1, psi_2 = sp.symbols('psi_1 psi_2')\n",
        "phi, omega = sp.symbols('phi omega')\n",
        "\n",
        "# Functions f1 and f2\n",
        "def f1(theta):\n",
        "    if theta == 0:\n",
        "        return np.pi / 2\n",
        "    return np.arcsin(np.sin(theta)) + (np.pi / 2) * (1 - np.pi / (2 * theta))\n",
        "\n",
        "def f2(theta):\n",
        "    if theta == 0:\n",
        "        return np.pi / 2\n",
        "    return np.arcsin(np.cos(theta)) + (np.pi / 2) * (1 - np.pi / (2 * theta))\n",
        "\n",
        "# Define decision graph for logic modulation\n",
        "def create_decision_graph():\n",
        "    G = nx.DiGraph()\n",
        "    logical_nodes = ['psi_1', 'psi_2', 'omega', 'phi']\n",
        "    for node in logical_nodes:\n",
        "        # Initialize logical nodes with a value in the range [0, 1]\n",
        "        G.add_node(node, value=np.random.rand())\n",
        "    return G\n",
        "\n",
        "# Function to update the logic values with user-entered formula\n",
        "def update_with_user_input(G, user_input):\n",
        "    # Convert the entered user formula to a sympy expression\n",
        "    try:\n",
        "        formula = sp.sympify(user_input, locals=globals())\n",
        "\n",
        "        # Now, evaluate the formula using the current values in the graph\n",
        "        substitutions = {str(var): G.nodes[str(var)]['value'] for var in formula.free_symbols}\n",
        "        result = formula.subs(substitutions).evalf()\n",
        "\n",
        "        # Update the 'phi' value in the graph\n",
        "        G.nodes['phi']['value'] = float(result)\n",
        "        print(f\"Graph updated with logic formula: {user_input}\")\n",
        "    except Exception as e:\n",
        "        print(f\"An error occurred: {e}\")\n",
        "\n",
        "# Function to visualize the decision graph as a tessellation pattern\n",
        "def visualize_tessellation(G, domain, hex_centers, hex_size):\n",
        "    fig, ax = plt.subplots()\n",
        "    for center in hex_centers:\n",
        "        x, y = center\n",
        "        theta = np.arctan2(y, x) if x != 0 else np.pi / 2\n",
        "        efficiency_value = f1(theta) * f2(theta) * (1 - f1(theta)) * (1 - f2(theta))\n",
        "        logic_value = G.nodes['phi']['value']\n",
        "        color_value = np.clip(efficiency_value * logic_value, 0, 1)\n",
        "        hexagon = patches.RegularPolygon(center, numVertices=6, radius=hex_size, orientation=np.pi/6)\n",
        "        hexagon.set_facecolor(plt.cm.viridis(color_value))\n",
        "        ax.add_patch(hexagon)\n",
        "    ax.set_xlim(domain[0], domain[1])\n",
        "    ax.set_ylim(domain[2], domain[3])\n",
        "    ax.set_aspect('equal')\n",
        "    plt.axis('off')\n",
        "    plt.show()\n",
        "\n",
        "# Initialize domain and hex centers for the tessellation\n",
        "domain = (-5, 5, -5, 5)\n",
        "hex_size = 0.5\n",
        "hex_centers = [(i, j) for i in np.arange(domain[0], domain[1], hex_size)\n",
        "               for j in np.arange(domain[2], domain[3], hex_size)]\n",
        "\n",
        "# Main interaction loop for the game with user input\n",
        "def run_game_loop():\n",
        "    G = create_decision_graph()\n",
        "    while True:\n",
        "        user_input = input(\"Enter your logic formula (e.g., 'psi_1 & ~psi_2') or 'quit' to exit: \")\n",
        "        if user_input.lower() == 'quit':\n",
        "            print(\"Exiting game.\")\n",
        "            break\n",
        "        update_with_user_input(G, user_input)\n",
        "        visualize_tessellation(G, domain, hex_centers, hex_size)\n",
        "\n",
        "run_game_loop()"
      ]
    }
  ]
}